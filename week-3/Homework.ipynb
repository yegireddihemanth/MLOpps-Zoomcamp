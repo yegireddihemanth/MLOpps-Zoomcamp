{
 "cells": [
  {
   "cell_type": "markdown",
   "id": "98646c23-3fd1-4662-bb78-33aa0c19a218",
   "metadata": {},
   "source": [
    "## Homework\n",
    "\n",
    "The goal of this homework is to familiarize users with workflow orchestration. \n",
    "\n",
    "Start with the orchestrate.py file in the 03-orchestration/3.4 folder\n",
    "of the course repo: https://github.com/DataTalksClub/mlops-zoomcamp/blob/main/03-orchestration/3.4/orchestrate.py\n"
   ]
  },
  {
   "cell_type": "code",
   "execution_count": 2,
   "id": "778f962e-a21f-4bf7-8565-987bfcd84928",
   "metadata": {
    "tags": []
   },
   "outputs": [
    {
     "name": "stdout",
     "output_type": "stream",
     "text": [
      "Set 'PREFECT_API_URL' to 'http://127.0.0.1:4200/api'.\n",
      "\u001b[32mUpdated profile 'default'.\u001b[0m\n"
     ]
    }
   ],
   "source": [
    "!prefect config set PREFECT_API_URL=http://127.0.0.1:4200/api"
   ]
  },
  {
   "cell_type": "markdown",
   "id": "7aac8ff2-8788-46c7-963a-21a004bc1ea6",
   "metadata": {},
   "source": [
    "## Q1. Human-readable name\n",
    "\n",
    "You’d like to give the first task, `read_data` a nicely formatted name.\n",
    "How can you specify a task name?\n",
    "\n",
    "> Hint: look in the docs at https://docs.prefect.io or \n",
    "> check out the doc string in a code editor.\n",
    "\n",
    "Answer : `@task(retries=3, retry_delay_seconds=2, name=\"Read taxi data\")`"
   ]
  },
  {
   "cell_type": "markdown",
   "id": "2d1132f9-96e4-4a5d-b46c-1d8b096f8f66",
   "metadata": {},
   "source": [
    "## Q2. Cron\n",
    "\n",
    "Cron is a common scheduling specification for workflows. \n",
    "\n",
    "Using the flow in `orchestrate.py`, create a deployment.\n",
    "Schedule your deployment to run on the third day of every month at 9am UTC.\n",
    "What’s the cron schedule for that?\n",
    "\n",
    "Answer `0 9 3 * *`"
   ]
  },
  {
   "cell_type": "code",
   "execution_count": 4,
   "id": "bd9cae86-af26-48b8-898a-c984cbf2a7d8",
   "metadata": {},
   "outputs": [
    {
     "name": "stdout",
     "output_type": "stream",
     "text": [
      "12:55:21.576 | \u001b[36mINFO\u001b[0m    | prefect.engine - Created flow run\u001b[35m 'pompous-chipmunk'\u001b[0m for flow\u001b[1;35m 'main-flow'\u001b[0m\n",
      "2023/06/12 12:55:21 INFO mlflow.store.db.utils: Creating initial MLflow database tables...\n",
      "2023/06/12 12:55:21 INFO mlflow.store.db.utils: Updating database tables\n",
      "INFO  [alembic.runtime.migration] Context impl SQLiteImpl.\n",
      "INFO  [alembic.runtime.migration] Will assume non-transactional DDL.\n",
      "INFO  [alembic.runtime.migration] Running upgrade  -> 451aebb31d03, add metric step\n",
      "INFO  [alembic.runtime.migration] Running upgrade 451aebb31d03 -> 90e64c465722, migrate user column to tags\n",
      "INFO  [alembic.runtime.migration] Running upgrade 90e64c465722 -> 181f10493468, allow nulls for metric values\n",
      "INFO  [alembic.runtime.migration] Running upgrade 181f10493468 -> df50e92ffc5e, Add Experiment Tags Table\n",
      "INFO  [alembic.runtime.migration] Running upgrade df50e92ffc5e -> 7ac759974ad8, Update run tags with larger limit\n",
      "INFO  [alembic.runtime.migration] Running upgrade 7ac759974ad8 -> 89d4b8295536, create latest metrics table\n",
      "INFO  [89d4b8295536_create_latest_metrics_table_py] Migration complete!\n",
      "INFO  [alembic.runtime.migration] Running upgrade 89d4b8295536 -> 2b4d017a5e9b, add model registry tables to db\n",
      "INFO  [2b4d017a5e9b_add_model_registry_tables_to_db_py] Adding registered_models and model_versions tables to database.\n",
      "INFO  [2b4d017a5e9b_add_model_registry_tables_to_db_py] Migration complete!\n",
      "INFO  [alembic.runtime.migration] Running upgrade 2b4d017a5e9b -> cfd24bdc0731, Update run status constraint with killed\n",
      "INFO  [alembic.runtime.migration] Running upgrade cfd24bdc0731 -> 0a8213491aaa, drop_duplicate_killed_constraint\n",
      "INFO  [alembic.runtime.migration] Running upgrade 0a8213491aaa -> 728d730b5ebd, add registered model tags table\n",
      "INFO  [alembic.runtime.migration] Running upgrade 728d730b5ebd -> 27a6a02d2cf1, add model version tags table\n",
      "INFO  [alembic.runtime.migration] Running upgrade 27a6a02d2cf1 -> 84291f40a231, add run_link to model_version\n",
      "INFO  [alembic.runtime.migration] Running upgrade 84291f40a231 -> a8c4a736bde6, allow nulls for run_id\n",
      "INFO  [alembic.runtime.migration] Running upgrade a8c4a736bde6 -> 39d1c3be5f05, add_is_nan_constraint_for_metrics_tables_if_necessary\n",
      "INFO  [alembic.runtime.migration] Running upgrade 39d1c3be5f05 -> c48cb773bb87, reset_default_value_for_is_nan_in_metrics_table_for_mysql\n",
      "INFO  [alembic.runtime.migration] Running upgrade c48cb773bb87 -> bd07f7e963c5, create index on run_uuid\n",
      "INFO  [alembic.runtime.migration] Running upgrade bd07f7e963c5 -> 0c779009ac13, add deleted_time field to runs table\n",
      "INFO  [alembic.runtime.migration] Running upgrade 0c779009ac13 -> cc1f77228345, change param value length to 500\n",
      "INFO  [alembic.runtime.migration] Running upgrade cc1f77228345 -> 97727af70f4d, Add creation_time and last_update_time to experiments table\n",
      "INFO  [alembic.runtime.migration] Running upgrade 97727af70f4d -> 3500859a5d39, Add Model Aliases table\n",
      "INFO  [alembic.runtime.migration] Context impl SQLiteImpl.\n",
      "INFO  [alembic.runtime.migration] Will assume non-transactional DDL.\n",
      "2023/06/12 12:55:22 INFO mlflow.tracking.fluent: Experiment with name 'nyc-taxi-experiment' does not exist. Creating a new experiment.\n",
      "INFO  [prefect.flow_runs] Created task run 'read_data-0' for task 'read_data'\n",
      "INFO  [prefect.flow_runs] Executing 'read_data-0' immediately...\n",
      "INFO  [prefect.task_runs] Finished in state Completed()\n",
      "INFO  [prefect.flow_runs] Created task run 'read_data-1' for task 'read_data'\n",
      "INFO  [prefect.flow_runs] Executing 'read_data-1' immediately...\n",
      "INFO  [prefect.task_runs] Finished in state Completed()\n",
      "INFO  [prefect.flow_runs] Created task run 'add_features-0' for task 'add_features'\n",
      "INFO  [prefect.flow_runs] Executing 'add_features-0' immediately...\n",
      "INFO  [prefect.task_runs] Finished in state Completed()\n",
      "INFO  [prefect.flow_runs] Created task run 'train_best_model-0' for task 'train_best_model'\n",
      "INFO  [prefect.flow_runs] Executing 'train_best_model-0' immediately...\n",
      "[12:55:24] WARNING: /workspace/src/objective/regression_obj.cu:213: reg:linear is now deprecated in favor of reg:squarederror.\n",
      "INFO  [prefect.task_runs] [0]\tvalidation-rmse:15.01627\n",
      "INFO  [prefect.task_runs] [1]\tvalidation-rmse:13.77591\n",
      "INFO  [prefect.task_runs] [2]\tvalidation-rmse:12.66953\n",
      "INFO  [prefect.task_runs] [3]\tvalidation-rmse:11.68972\n",
      "INFO  [prefect.task_runs] [4]\tvalidation-rmse:10.81927\n",
      "INFO  [prefect.task_runs] [5]\tvalidation-rmse:10.05352\n",
      "INFO  [prefect.task_runs] [6]\tvalidation-rmse:9.37638\n",
      "INFO  [prefect.task_runs] [7]\tvalidation-rmse:8.78514\n",
      "INFO  [prefect.task_runs] [8]\tvalidation-rmse:8.26684\n",
      "INFO  [prefect.task_runs] [9]\tvalidation-rmse:7.81889\n",
      "INFO  [prefect.task_runs] [10]\tvalidation-rmse:7.42994\n",
      "INFO  [prefect.task_runs] [11]\tvalidation-rmse:7.09348\n",
      "INFO  [prefect.task_runs] [12]\tvalidation-rmse:6.80836\n",
      "INFO  [prefect.task_runs] [13]\tvalidation-rmse:6.56211\n",
      "INFO  [prefect.task_runs] [14]\tvalidation-rmse:6.35332\n",
      "INFO  [prefect.task_runs] [15]\tvalidation-rmse:6.17838\n",
      "INFO  [prefect.task_runs] [16]\tvalidation-rmse:6.02763\n",
      "INFO  [prefect.task_runs] [17]\tvalidation-rmse:5.90232\n",
      "INFO  [prefect.task_runs] [18]\tvalidation-rmse:5.79691\n",
      "INFO  [prefect.task_runs] [19]\tvalidation-rmse:5.70817\n",
      "INFO  [prefect.task_runs] [20]\tvalidation-rmse:5.63182\n",
      "INFO  [prefect.task_runs] [21]\tvalidation-rmse:5.56852\n",
      "INFO  [prefect.task_runs] [22]\tvalidation-rmse:5.51520\n",
      "INFO  [prefect.task_runs] [23]\tvalidation-rmse:5.47115\n",
      "INFO  [prefect.task_runs] [24]\tvalidation-rmse:5.43421\n",
      "INFO  [prefect.task_runs] [25]\tvalidation-rmse:5.40206\n",
      "INFO  [prefect.task_runs] [26]\tvalidation-rmse:5.37653\n",
      "INFO  [prefect.task_runs] [27]\tvalidation-rmse:5.35308\n",
      "INFO  [prefect.task_runs] [28]\tvalidation-rmse:5.33437\n",
      "INFO  [prefect.task_runs] [29]\tvalidation-rmse:5.31842\n",
      "INFO  [prefect.task_runs] [30]\tvalidation-rmse:5.30434\n",
      "INFO  [prefect.task_runs] [31]\tvalidation-rmse:5.29293\n",
      "INFO  [prefect.task_runs] [32]\tvalidation-rmse:5.28270\n",
      "INFO  [prefect.task_runs] [33]\tvalidation-rmse:5.27307\n",
      "INFO  [prefect.task_runs] [34]\tvalidation-rmse:5.26638\n",
      "INFO  [prefect.task_runs] [35]\tvalidation-rmse:5.26043\n",
      "INFO  [prefect.task_runs] [36]\tvalidation-rmse:5.25512\n",
      "INFO  [prefect.task_runs] [37]\tvalidation-rmse:5.25088\n",
      "INFO  [prefect.task_runs] [38]\tvalidation-rmse:5.24664\n",
      "INFO  [prefect.task_runs] [39]\tvalidation-rmse:5.24209\n",
      "INFO  [prefect.task_runs] [40]\tvalidation-rmse:5.23909\n",
      "INFO  [prefect.task_runs] [41]\tvalidation-rmse:5.23607\n",
      "INFO  [prefect.task_runs] [42]\tvalidation-rmse:5.23344\n",
      "INFO  [prefect.task_runs] [43]\tvalidation-rmse:5.23200\n",
      "INFO  [prefect.task_runs] [44]\tvalidation-rmse:5.23097\n",
      "INFO  [prefect.task_runs] [45]\tvalidation-rmse:5.22865\n",
      "INFO  [prefect.task_runs] [46]\tvalidation-rmse:5.22775\n",
      "INFO  [prefect.task_runs] [47]\tvalidation-rmse:5.22687\n",
      "INFO  [prefect.task_runs] [48]\tvalidation-rmse:5.22582\n",
      "INFO  [prefect.task_runs] [49]\tvalidation-rmse:5.22487\n",
      "INFO  [prefect.task_runs] [50]\tvalidation-rmse:5.22442\n",
      "INFO  [prefect.task_runs] [51]\tvalidation-rmse:5.22332\n",
      "INFO  [prefect.task_runs] [52]\tvalidation-rmse:5.22236\n",
      "INFO  [prefect.task_runs] [53]\tvalidation-rmse:5.22142\n",
      "INFO  [prefect.task_runs] [54]\tvalidation-rmse:5.22022\n",
      "INFO  [prefect.task_runs] [55]\tvalidation-rmse:5.21987\n",
      "INFO  [prefect.task_runs] [56]\tvalidation-rmse:5.21908\n",
      "INFO  [prefect.task_runs] [57]\tvalidation-rmse:5.21873\n",
      "INFO  [prefect.task_runs] [58]\tvalidation-rmse:5.21820\n",
      "INFO  [prefect.task_runs] [59]\tvalidation-rmse:5.21787\n",
      "INFO  [prefect.task_runs] [60]\tvalidation-rmse:5.21702\n",
      "INFO  [prefect.task_runs] [61]\tvalidation-rmse:5.21632\n",
      "INFO  [prefect.task_runs] [62]\tvalidation-rmse:5.21571\n",
      "INFO  [prefect.task_runs] [63]\tvalidation-rmse:5.21404\n",
      "INFO  [prefect.task_runs] [64]\tvalidation-rmse:5.21348\n",
      "INFO  [prefect.task_runs] [65]\tvalidation-rmse:5.21290\n",
      "INFO  [prefect.task_runs] [66]\tvalidation-rmse:5.21262\n",
      "INFO  [prefect.task_runs] [67]\tvalidation-rmse:5.21181\n",
      "INFO  [prefect.task_runs] [68]\tvalidation-rmse:5.21179\n",
      "INFO  [prefect.task_runs] [69]\tvalidation-rmse:5.21113\n",
      "INFO  [prefect.task_runs] [70]\tvalidation-rmse:5.21051\n",
      "INFO  [prefect.task_runs] [71]\tvalidation-rmse:5.21000\n",
      "INFO  [prefect.task_runs] [72]\tvalidation-rmse:5.20944\n",
      "INFO  [prefect.task_runs] [73]\tvalidation-rmse:5.20928\n",
      "INFO  [prefect.task_runs] [74]\tvalidation-rmse:5.20890\n",
      "INFO  [prefect.task_runs] [75]\tvalidation-rmse:5.20840\n",
      "INFO  [prefect.task_runs] [76]\tvalidation-rmse:5.20723\n",
      "INFO  [prefect.task_runs] [77]\tvalidation-rmse:5.20677\n",
      "INFO  [prefect.task_runs] [78]\tvalidation-rmse:5.20653\n",
      "INFO  [prefect.task_runs] [79]\tvalidation-rmse:5.20608\n",
      "INFO  [prefect.task_runs] [80]\tvalidation-rmse:5.20599\n",
      "INFO  [prefect.task_runs] [81]\tvalidation-rmse:5.20558\n",
      "INFO  [prefect.task_runs] [82]\tvalidation-rmse:5.20516\n",
      "INFO  [prefect.task_runs] [83]\tvalidation-rmse:5.20428\n",
      "INFO  [prefect.task_runs] [84]\tvalidation-rmse:5.20377\n",
      "INFO  [prefect.task_runs] [85]\tvalidation-rmse:5.20323\n",
      "INFO  [prefect.task_runs] [86]\tvalidation-rmse:5.20281\n",
      "INFO  [prefect.task_runs] [87]\tvalidation-rmse:5.20294\n",
      "INFO  [prefect.task_runs] [88]\tvalidation-rmse:5.20271\n",
      "INFO  [prefect.task_runs] [89]\tvalidation-rmse:5.20245\n",
      "INFO  [prefect.task_runs] [90]\tvalidation-rmse:5.20201\n",
      "INFO  [prefect.task_runs] [91]\tvalidation-rmse:5.20186\n",
      "INFO  [prefect.task_runs] [92]\tvalidation-rmse:5.20146\n",
      "INFO  [prefect.task_runs] [93]\tvalidation-rmse:5.20144\n",
      "INFO  [prefect.task_runs] [94]\tvalidation-rmse:5.20096\n",
      "INFO  [prefect.task_runs] [95]\tvalidation-rmse:5.20087\n",
      "INFO  [prefect.task_runs] [96]\tvalidation-rmse:5.20016\n",
      "INFO  [prefect.task_runs] [97]\tvalidation-rmse:5.19983\n",
      "INFO  [prefect.task_runs] [98]\tvalidation-rmse:5.19931\n",
      "INFO  [prefect.task_runs] [99]\tvalidation-rmse:5.19931\n",
      "/opt/conda/lib/python3.10/site-packages/_distutils_hack/__init__.py:33: UserWarning: Setuptools is replacing distutils.\n",
      "  warnings.warn(\"Setuptools is replacing distutils.\")\n",
      "INFO  [prefect.task_runs] Finished in state Completed()\n",
      "INFO  [prefect.flow_runs] Finished in state Completed('All states completed.')\n"
     ]
    }
   ],
   "source": [
    "!python 3.4/orchestrate.py"
   ]
  },
  {
   "cell_type": "markdown",
   "id": "de710d3b-1f64-40ea-8152-dc86ee19b242",
   "metadata": {
    "tags": []
   },
   "source": [
    "## Q3. RMSE \n",
    "\n",
    "Download the January 2023 Green Taxi data and use it for your training data.\n",
    "Download the February 2023 Green Taxi data and use it for your validation data. \n",
    "\n",
    "Make sure you upload the data to GitHub so it is available for your deployment.\n",
    "\n",
    "Create a custom flow run of your deployment from the UI. Choose Custom\n",
    "Run for the flow and enter the file path as a string on the JSON tab under Parameters.\n",
    "\n",
    "Make sure you have a worker running and polling the correct work pool.\n",
    "\n",
    "View the results in the UI.\n",
    "\n",
    "What’s the final RMSE to five decimal places?"
   ]
  },
  {
   "cell_type": "code",
   "execution_count": 7,
   "id": "1a7a58ea-c9ba-494c-9275-8d3fca66a996",
   "metadata": {
    "tags": []
   },
   "outputs": [
    {
     "name": "stdout",
     "output_type": "stream",
     "text": [
      "origin\thttps://github.com/rifrif12/MLOps-Zoomcamp-2023.git (fetch)\n",
      "origin\thttps://github.com/rifrif12/MLOps-Zoomcamp-2023.git (push)\n"
     ]
    }
   ],
   "source": [
    "!git remote -v"
   ]
  },
  {
   "cell_type": "code",
   "execution_count": 8,
   "id": "30373e93-9ba0-459e-ba8a-69a6eb66a733",
   "metadata": {
    "tags": []
   },
   "outputs": [
    {
     "name": "stdout",
     "output_type": "stream",
     "text": [
      "Created project in \u001b[32m/home/jovyan/MLOps-Zoomcamp-2023/Week3\u001b[0m with the following new\n",
      "files:\n",
      "\u001b[32m.prefectignore\u001b[0m\n",
      "\u001b[32mdeployment.yaml\u001b[0m\n",
      "\u001b[32mprefect.yaml\u001b[0m\n",
      "\u001b[32m.prefect/\u001b[0m\n"
     ]
    }
   ],
   "source": [
    "!prefect project init"
   ]
  },
  {
   "cell_type": "code",
   "execution_count": 12,
   "id": "ff137ef4-4080-4361-8147-ab8235000816",
   "metadata": {
    "tags": []
   },
   "outputs": [
    {
     "name": "stdout",
     "output_type": "stream",
     "text": [
      "\u001b[32mThis profile is already authenticated with that key.\u001b[0m\n"
     ]
    }
   ],
   "source": [
    "!prefect cloud login -k pnu_joXrZUb0CBjDBZhAu2wplEgcPNSDor25K2I7"
   ]
  },
  {
   "cell_type": "code",
   "execution_count": 11,
   "id": "a5e7117e-b000-43ee-bfa3-ec541afa18d5",
   "metadata": {
    "tags": []
   },
   "outputs": [
    {
     "name": "stdout",
     "output_type": "stream",
     "text": [
      "\u001b[32mDeployment 'main-flow/taxi' successfully created with id \u001b[0m\n",
      "\u001b[32m'7962bf25-49e0-40c8-9591-0a6a0ec23d4d'.\u001b[0m\n",
      "View Deployment in UI: \n",
      "https://app.prefect.cloud/account/c363e58b-36d9-42b1-b7c5-93dbd85b6a4c/workspace\n",
      "/893778f4-754a-4406-83eb-6d4296b670ea/deployments/deployment/7962bf25-49e0-40c8-\n",
      "9591-0a6a0ec23d4d\n",
      "\n",
      "To execute flow runs from this deployment, start a worker that pulls work from \n",
      "the 'week3' work pool\n"
     ]
    }
   ],
   "source": [
    "!prefect deploy 3.4/orchestrate.py:main_flow -n taxi -p week3"
   ]
  },
  {
   "cell_type": "code",
   "execution_count": null,
   "id": "2dc587a6-7713-4925-8662-c4d6996e2d26",
   "metadata": {
    "tags": []
   },
   "outputs": [],
   "source": [
    "!prefect worker start -p week3"
   ]
  },
  {
   "cell_type": "code",
   "execution_count": null,
   "id": "e952f3fe-8acd-436f-b3bf-06e32c76cb38",
   "metadata": {
    "tags": []
   },
   "outputs": [],
   "source": [
    "!prefect deployment run main-flow/taxi"
   ]
  },
  {
   "cell_type": "markdown",
   "id": "06991dd7-b76b-4650-ae59-16fa1114a48d",
   "metadata": {},
   "source": [
    "Answer : `5.19931`"
   ]
  },
  {
   "cell_type": "markdown",
   "id": "e6f6a083-2cbd-42ef-b80e-540c9497dba8",
   "metadata": {},
   "source": [
    "## Q4. RMSE (Markdown Artifact)\n",
    "\n",
    "Download the February 2023 Green Taxi data and use it for your training data.\n",
    "Download the March 2023 Green Taxi data and use it for your validation data. \n",
    "\n",
    "Create a Prefect Markdown artifact that displays the RMSE for the validation data.\n",
    "Create a deployment and run it.\n",
    "\n",
    "What’s the RMSE in the artifact to two decimal places ?"
   ]
  },
  {
   "cell_type": "code",
   "execution_count": 19,
   "id": "2e69d80c-b397-4106-837f-8177b412815b",
   "metadata": {
    "tags": []
   },
   "outputs": [
    {
     "name": "stdout",
     "output_type": "stream",
     "text": [
      "14:05:39.250 | \u001b[36mINFO\u001b[0m    | prefect.engine - Created flow run\u001b[35m 'dandelion-turtle'\u001b[0m for flow\u001b[1;35m 'main-flow'\u001b[0m\n",
      "14:05:42.420 | \u001b[36mINFO\u001b[0m    | Flow run\u001b[35m 'dandelion-turtle'\u001b[0m - Created task run 'read_data-0' for task 'read_data'\n",
      "14:05:42.424 | \u001b[36mINFO\u001b[0m    | Flow run\u001b[35m 'dandelion-turtle'\u001b[0m - Executing 'read_data-0' immediately...\n",
      "14:05:44.535 | \u001b[36mINFO\u001b[0m    | Task run 'read_data-0' - Finished in state \u001b[32mCompleted\u001b[0m()\n",
      "14:05:44.892 | \u001b[36mINFO\u001b[0m    | Flow run\u001b[35m 'dandelion-turtle'\u001b[0m - Created task run 'read_data-1' for task 'read_data'\n",
      "14:05:44.896 | \u001b[36mINFO\u001b[0m    | Flow run\u001b[35m 'dandelion-turtle'\u001b[0m - Executing 'read_data-1' immediately...\n",
      "14:05:46.935 | \u001b[36mINFO\u001b[0m    | Task run 'read_data-1' - Finished in state \u001b[32mCompleted\u001b[0m()\n",
      "14:05:47.316 | \u001b[36mINFO\u001b[0m    | Flow run\u001b[35m 'dandelion-turtle'\u001b[0m - Created task run 'add_features-0' for task 'add_features'\n",
      "14:05:47.318 | \u001b[36mINFO\u001b[0m    | Flow run\u001b[35m 'dandelion-turtle'\u001b[0m - Executing 'add_features-0' immediately...\n",
      "14:05:49.563 | \u001b[36mINFO\u001b[0m    | Task run 'add_features-0' - Finished in state \u001b[32mCompleted\u001b[0m()\n",
      "14:05:49.941 | \u001b[36mINFO\u001b[0m    | Flow run\u001b[35m 'dandelion-turtle'\u001b[0m - Created task run 'train_best_model-0' for task 'train_best_model'\n",
      "14:05:49.944 | \u001b[36mINFO\u001b[0m    | Flow run\u001b[35m 'dandelion-turtle'\u001b[0m - Executing 'train_best_model-0' immediately...\n",
      "[14:05:51] WARNING: /workspace/src/objective/regression_obj.cu:213: reg:linear is now deprecated in favor of reg:squarederror.\n",
      "14:05:51.389 | \u001b[36mINFO\u001b[0m    | Task run 'train_best_model-0' - [0]    validation-rmse:15.33078\n",
      "14:05:51.621 | \u001b[36mINFO\u001b[0m    | Task run 'train_best_model-0' - [1]    validation-rmse:14.09739\n",
      "14:05:51.714 | \u001b[36mINFO\u001b[0m    | Task run 'train_best_model-0' - [2]    validation-rmse:12.99920\n",
      "14:05:51.811 | \u001b[36mINFO\u001b[0m    | Task run 'train_best_model-0' - [3]    validation-rmse:12.02243\n",
      "14:05:51.903 | \u001b[36mINFO\u001b[0m    | Task run 'train_best_model-0' - [4]    validation-rmse:11.15585\n",
      "14:05:51.999 | \u001b[36mINFO\u001b[0m    | Task run 'train_best_model-0' - [5]    validation-rmse:10.39226\n",
      "14:05:52.100 | \u001b[36mINFO\u001b[0m    | Task run 'train_best_model-0' - [6]    validation-rmse:9.71696\n",
      "14:05:52.214 | \u001b[36mINFO\u001b[0m    | Task run 'train_best_model-0' - [7]    validation-rmse:9.12782\n",
      "14:05:52.366 | \u001b[36mINFO\u001b[0m    | Task run 'train_best_model-0' - [8]    validation-rmse:8.60975\n",
      "14:05:52.514 | \u001b[36mINFO\u001b[0m    | Task run 'train_best_model-0' - [9]    validation-rmse:8.15872\n",
      "14:05:52.643 | \u001b[36mINFO\u001b[0m    | Task run 'train_best_model-0' - [10]   validation-rmse:7.76686\n",
      "14:05:52.742 | \u001b[36mINFO\u001b[0m    | Task run 'train_best_model-0' - [11]   validation-rmse:7.42798\n",
      "14:05:53.100 | \u001b[36mINFO\u001b[0m    | Task run 'train_best_model-0' - [12]   validation-rmse:7.13629\n",
      "14:05:53.204 | \u001b[36mINFO\u001b[0m    | Task run 'train_best_model-0' - [13]   validation-rmse:6.88486\n",
      "14:05:53.304 | \u001b[36mINFO\u001b[0m    | Task run 'train_best_model-0' - [14]   validation-rmse:6.67077\n",
      "14:05:53.401 | \u001b[36mINFO\u001b[0m    | Task run 'train_best_model-0' - [15]   validation-rmse:6.48829\n",
      "14:05:53.506 | \u001b[36mINFO\u001b[0m    | Task run 'train_best_model-0' - [16]   validation-rmse:6.33274\n",
      "14:05:53.603 | \u001b[36mINFO\u001b[0m    | Task run 'train_best_model-0' - [17]   validation-rmse:6.19826\n",
      "14:05:53.709 | \u001b[36mINFO\u001b[0m    | Task run 'train_best_model-0' - [18]   validation-rmse:6.08427\n",
      "14:05:53.792 | \u001b[36mINFO\u001b[0m    | Task run 'train_best_model-0' - [19]   validation-rmse:5.98670\n",
      "14:05:53.868 | \u001b[36mINFO\u001b[0m    | Task run 'train_best_model-0' - [20]   validation-rmse:5.90483\n",
      "14:05:53.952 | \u001b[36mINFO\u001b[0m    | Task run 'train_best_model-0' - [21]   validation-rmse:5.83439\n",
      "14:05:54.037 | \u001b[36mINFO\u001b[0m    | Task run 'train_best_model-0' - [22]   validation-rmse:5.77680\n",
      "14:05:54.152 | \u001b[36mINFO\u001b[0m    | Task run 'train_best_model-0' - [23]   validation-rmse:5.72543\n",
      "14:05:54.263 | \u001b[36mINFO\u001b[0m    | Task run 'train_best_model-0' - [24]   validation-rmse:5.68091\n",
      "14:05:54.341 | \u001b[36mINFO\u001b[0m    | Task run 'train_best_model-0' - [25]   validation-rmse:5.64424\n",
      "14:05:54.416 | \u001b[36mINFO\u001b[0m    | Task run 'train_best_model-0' - [26]   validation-rmse:5.61182\n",
      "14:05:54.491 | \u001b[36mINFO\u001b[0m    | Task run 'train_best_model-0' - [27]   validation-rmse:5.58395\n",
      "14:05:54.563 | \u001b[36mINFO\u001b[0m    | Task run 'train_best_model-0' - [28]   validation-rmse:5.56122\n",
      "14:05:54.631 | \u001b[36mINFO\u001b[0m    | Task run 'train_best_model-0' - [29]   validation-rmse:5.54000\n",
      "14:05:54.695 | \u001b[36mINFO\u001b[0m    | Task run 'train_best_model-0' - [30]   validation-rmse:5.52124\n",
      "14:05:54.762 | \u001b[36mINFO\u001b[0m    | Task run 'train_best_model-0' - [31]   validation-rmse:5.50483\n",
      "14:05:54.827 | \u001b[36mINFO\u001b[0m    | Task run 'train_best_model-0' - [32]   validation-rmse:5.49293\n",
      "14:05:54.895 | \u001b[36mINFO\u001b[0m    | Task run 'train_best_model-0' - [33]   validation-rmse:5.48085\n",
      "14:05:54.957 | \u001b[36mINFO\u001b[0m    | Task run 'train_best_model-0' - [34]   validation-rmse:5.47086\n",
      "14:05:55.060 | \u001b[36mINFO\u001b[0m    | Task run 'train_best_model-0' - [35]   validation-rmse:5.46186\n",
      "14:05:55.124 | \u001b[36mINFO\u001b[0m    | Task run 'train_best_model-0' - [36]   validation-rmse:5.45498\n",
      "14:05:55.181 | \u001b[36mINFO\u001b[0m    | Task run 'train_best_model-0' - [37]   validation-rmse:5.44771\n",
      "14:05:55.249 | \u001b[36mINFO\u001b[0m    | Task run 'train_best_model-0' - [38]   validation-rmse:5.44088\n",
      "14:05:55.309 | \u001b[36mINFO\u001b[0m    | Task run 'train_best_model-0' - [39]   validation-rmse:5.43434\n",
      "14:05:55.369 | \u001b[36mINFO\u001b[0m    | Task run 'train_best_model-0' - [40]   validation-rmse:5.43017\n",
      "14:05:55.434 | \u001b[36mINFO\u001b[0m    | Task run 'train_best_model-0' - [41]   validation-rmse:5.42578\n",
      "14:05:55.493 | \u001b[36mINFO\u001b[0m    | Task run 'train_best_model-0' - [42]   validation-rmse:5.42230\n",
      "14:05:55.575 | \u001b[36mINFO\u001b[0m    | Task run 'train_best_model-0' - [43]   validation-rmse:5.41903\n",
      "14:05:55.638 | \u001b[36mINFO\u001b[0m    | Task run 'train_best_model-0' - [44]   validation-rmse:5.41589\n",
      "14:05:55.773 | \u001b[36mINFO\u001b[0m    | Task run 'train_best_model-0' - [45]   validation-rmse:5.41305\n",
      "14:05:55.843 | \u001b[36mINFO\u001b[0m    | Task run 'train_best_model-0' - [46]   validation-rmse:5.41009\n",
      "14:05:55.895 | \u001b[36mINFO\u001b[0m    | Task run 'train_best_model-0' - [47]   validation-rmse:5.40823\n",
      "14:05:55.952 | \u001b[36mINFO\u001b[0m    | Task run 'train_best_model-0' - [48]   validation-rmse:5.40656\n",
      "14:05:56.009 | \u001b[36mINFO\u001b[0m    | Task run 'train_best_model-0' - [49]   validation-rmse:5.40523\n",
      "14:05:56.070 | \u001b[36mINFO\u001b[0m    | Task run 'train_best_model-0' - [50]   validation-rmse:5.40380\n",
      "14:05:56.137 | \u001b[36mINFO\u001b[0m    | Task run 'train_best_model-0' - [51]   validation-rmse:5.40214\n",
      "14:05:56.189 | \u001b[36mINFO\u001b[0m    | Task run 'train_best_model-0' - [52]   validation-rmse:5.40109\n",
      "14:05:56.247 | \u001b[36mINFO\u001b[0m    | Task run 'train_best_model-0' - [53]   validation-rmse:5.40025\n",
      "14:05:56.320 | \u001b[36mINFO\u001b[0m    | Task run 'train_best_model-0' - [54]   validation-rmse:5.39867\n",
      "14:05:56.382 | \u001b[36mINFO\u001b[0m    | Task run 'train_best_model-0' - [55]   validation-rmse:5.39758\n",
      "14:05:56.433 | \u001b[36mINFO\u001b[0m    | Task run 'train_best_model-0' - [56]   validation-rmse:5.39653\n",
      "14:05:56.484 | \u001b[36mINFO\u001b[0m    | Task run 'train_best_model-0' - [57]   validation-rmse:5.39541\n",
      "14:05:56.558 | \u001b[36mINFO\u001b[0m    | Task run 'train_best_model-0' - [58]   validation-rmse:5.39468\n",
      "14:05:56.621 | \u001b[36mINFO\u001b[0m    | Task run 'train_best_model-0' - [59]   validation-rmse:5.39393\n",
      "14:05:56.679 | \u001b[36mINFO\u001b[0m    | Task run 'train_best_model-0' - [60]   validation-rmse:5.39310\n",
      "14:05:56.735 | \u001b[36mINFO\u001b[0m    | Task run 'train_best_model-0' - [61]   validation-rmse:5.39250\n",
      "14:05:56.813 | \u001b[36mINFO\u001b[0m    | Task run 'train_best_model-0' - [62]   validation-rmse:5.39156\n",
      "14:05:56.902 | \u001b[36mINFO\u001b[0m    | Task run 'train_best_model-0' - [63]   validation-rmse:5.39117\n",
      "14:05:56.970 | \u001b[36mINFO\u001b[0m    | Task run 'train_best_model-0' - [64]   validation-rmse:5.39068\n",
      "14:05:57.043 | \u001b[36mINFO\u001b[0m    | Task run 'train_best_model-0' - [65]   validation-rmse:5.38985\n",
      "14:05:57.102 | \u001b[36mINFO\u001b[0m    | Task run 'train_best_model-0' - [66]   validation-rmse:5.38964\n",
      "14:05:57.152 | \u001b[36mINFO\u001b[0m    | Task run 'train_best_model-0' - [67]   validation-rmse:5.38894\n",
      "14:05:57.203 | \u001b[36mINFO\u001b[0m    | Task run 'train_best_model-0' - [68]   validation-rmse:5.38829\n",
      "14:05:57.259 | \u001b[36mINFO\u001b[0m    | Task run 'train_best_model-0' - [69]   validation-rmse:5.38770\n",
      "14:05:57.332 | \u001b[36mINFO\u001b[0m    | Task run 'train_best_model-0' - [70]   validation-rmse:5.38663\n",
      "14:05:57.401 | \u001b[36mINFO\u001b[0m    | Task run 'train_best_model-0' - [71]   validation-rmse:5.38621\n",
      "14:05:57.492 | \u001b[36mINFO\u001b[0m    | Task run 'train_best_model-0' - [72]   validation-rmse:5.38556\n",
      "14:05:57.549 | \u001b[36mINFO\u001b[0m    | Task run 'train_best_model-0' - [73]   validation-rmse:5.38495\n",
      "14:05:57.608 | \u001b[36mINFO\u001b[0m    | Task run 'train_best_model-0' - [74]   validation-rmse:5.38442\n",
      "14:05:57.663 | \u001b[36mINFO\u001b[0m    | Task run 'train_best_model-0' - [75]   validation-rmse:5.38382\n",
      "14:05:57.728 | \u001b[36mINFO\u001b[0m    | Task run 'train_best_model-0' - [76]   validation-rmse:5.38359\n",
      "14:05:57.787 | \u001b[36mINFO\u001b[0m    | Task run 'train_best_model-0' - [77]   validation-rmse:5.38310\n",
      "14:05:57.890 | \u001b[36mINFO\u001b[0m    | Task run 'train_best_model-0' - [78]   validation-rmse:5.38273\n",
      "14:05:57.945 | \u001b[36mINFO\u001b[0m    | Task run 'train_best_model-0' - [79]   validation-rmse:5.38246\n",
      "14:05:58.003 | \u001b[36mINFO\u001b[0m    | Task run 'train_best_model-0' - [80]   validation-rmse:5.38223\n",
      "14:05:58.060 | \u001b[36mINFO\u001b[0m    | Task run 'train_best_model-0' - [81]   validation-rmse:5.38196\n",
      "14:05:58.194 | \u001b[36mINFO\u001b[0m    | Task run 'train_best_model-0' - [82]   validation-rmse:5.38102\n",
      "14:05:58.344 | \u001b[36mINFO\u001b[0m    | Task run 'train_best_model-0' - [83]   validation-rmse:5.38055\n",
      "14:05:58.467 | \u001b[36mINFO\u001b[0m    | Task run 'train_best_model-0' - [84]   validation-rmse:5.38044\n",
      "14:05:58.536 | \u001b[36mINFO\u001b[0m    | Task run 'train_best_model-0' - [85]   validation-rmse:5.38019\n",
      "14:05:58.586 | \u001b[36mINFO\u001b[0m    | Task run 'train_best_model-0' - [86]   validation-rmse:5.37990\n",
      "14:05:58.638 | \u001b[36mINFO\u001b[0m    | Task run 'train_best_model-0' - [87]   validation-rmse:5.37936\n",
      "14:05:58.687 | \u001b[36mINFO\u001b[0m    | Task run 'train_best_model-0' - [88]   validation-rmse:5.37883\n",
      "14:05:58.741 | \u001b[36mINFO\u001b[0m    | Task run 'train_best_model-0' - [89]   validation-rmse:5.37832\n",
      "14:05:58.806 | \u001b[36mINFO\u001b[0m    | Task run 'train_best_model-0' - [90]   validation-rmse:5.37805\n",
      "14:05:58.869 | \u001b[36mINFO\u001b[0m    | Task run 'train_best_model-0' - [91]   validation-rmse:5.37788\n",
      "14:05:58.934 | \u001b[36mINFO\u001b[0m    | Task run 'train_best_model-0' - [92]   validation-rmse:5.37722\n",
      "14:05:59.002 | \u001b[36mINFO\u001b[0m    | Task run 'train_best_model-0' - [93]   validation-rmse:5.37667\n",
      "14:05:59.068 | \u001b[36mINFO\u001b[0m    | Task run 'train_best_model-0' - [94]   validation-rmse:5.37631\n",
      "14:05:59.128 | \u001b[36mINFO\u001b[0m    | Task run 'train_best_model-0' - [95]   validation-rmse:5.37589\n",
      "14:05:59.184 | \u001b[36mINFO\u001b[0m    | Task run 'train_best_model-0' - [96]   validation-rmse:5.37561\n",
      "14:05:59.238 | \u001b[36mINFO\u001b[0m    | Task run 'train_best_model-0' - [97]   validation-rmse:5.37512\n",
      "14:05:59.311 | \u001b[36mINFO\u001b[0m    | Task run 'train_best_model-0' - [98]   validation-rmse:5.37468\n",
      "14:05:59.378 | \u001b[36mINFO\u001b[0m    | Task run 'train_best_model-0' - [99]   validation-rmse:5.37450\n",
      "/opt/conda/lib/python3.10/site-packages/_distutils_hack/__init__.py:33: UserWarning: Setuptools is replacing distutils.\n",
      "  warnings.warn(\"Setuptools is replacing distutils.\")\n",
      "14:06:03.822 | \u001b[36mINFO\u001b[0m    | Task run 'train_best_model-0' - Finished in state \u001b[32mCompleted\u001b[0m()\n",
      "14:06:04.174 | \u001b[36mINFO\u001b[0m    | Flow run\u001b[35m 'dandelion-turtle'\u001b[0m - Finished in state \u001b[32mCompleted\u001b[0m('All states completed.')\n"
     ]
    }
   ],
   "source": [
    "!python 3.4/orchestrate.py"
   ]
  },
  {
   "cell_type": "markdown",
   "id": "b7363244-8b32-44b9-bc49-66bec96113b4",
   "metadata": {},
   "source": [
    "Answer : `5.37`"
   ]
  },
  {
   "cell_type": "markdown",
   "id": "83790d41-faa4-4e7f-9d9c-30c9c644ce38",
   "metadata": {
    "tags": []
   },
   "source": [
    "## Q5. Emails\n",
    "\n",
    "\n",
    "It’s often helpful to be notified when something with your dataflow doesn’t work\n",
    "as planned. Create an email notification for to use with your own Prefect server instance.\n",
    "In your virtual environment, install the prefect-email integration with \n",
    "\n",
    "```bash\n",
    "pip install prefect-email\n",
    "```\n",
    "\n",
    "Make sure you are connected to a running Prefect server instance through your\n",
    "Prefect profile.\n",
    "See the docs if needed: https://docs.prefect.io/latest/concepts/settings/#configuration-profiles\n",
    "\n",
    "Register the new block with your server with \n",
    "\n",
    "```bash\n",
    "prefect block register -m prefect_email\n",
    "```\n",
    "\n",
    "Remember that a block is a Prefect class with a nice UI form interface.\n",
    "Block objects live on the server and can be created and accessed in your Python code. \n",
    "\n",
    "See the docs for how to authenticate by saving your email credentials to\n",
    "a block and note that you will need an App Password to send emails with\n",
    "Gmail and other services. Follow the instructions in the docs.\n",
    "\n",
    "Create and save an `EmailServerCredentials` notification block.\n",
    "Use the credentials block to send an email.\n",
    "\n",
    "Test the notification functionality by running a deployment.\n"
   ]
  },
  {
   "cell_type": "code",
   "execution_count": 23,
   "id": "4cd145e6-dd8f-4cb6-ba22-209433368e25",
   "metadata": {
    "tags": []
   },
   "outputs": [
    {
     "name": "stdout",
     "output_type": "stream",
     "text": [
      "\u001b[32mSuccessfully registered 1 block\u001b[0m\n",
      "\n",
      "┏━━━━━━━━━━━━━━━━━━━━━━━━━━┓\n",
      "┃\u001b[1m \u001b[0m\u001b[1mRegistered Blocks       \u001b[0m\u001b[1m \u001b[0m┃\n",
      "┡━━━━━━━━━━━━━━━━━━━━━━━━━━┩\n",
      "│ Email Server Credentials │\n",
      "└──────────────────────────┘\n",
      "\n",
      " To configure the newly registered blocks, go to the Blocks page in the Prefect \n",
      "UI: \n",
      "https://app.prefect.cloud/account/c363e58b-36d9-42b1-b7c5-93dbd85b6a4c/workspace\n",
      "/893778f4-754a-4406-83eb-6d4296b670ea/blocks/catalog\n",
      "\n"
     ]
    }
   ],
   "source": [
    "!prefect block register -m prefect_email"
   ]
  },
  {
   "cell_type": "markdown",
   "id": "9ab8de43-12a4-4593-b21a-49ce02b869be",
   "metadata": {
    "tags": []
   },
   "source": [
    "Answer : `email_send_message`"
   ]
  },
  {
   "cell_type": "markdown",
   "id": "6e65d68c-f732-4e82-a759-7cb324791ba7",
   "metadata": {},
   "source": [
    "## Q6. Prefect Cloud\n",
    "\n",
    "The hosted Prefect Cloud lets you avoid running your own Prefect server and\n",
    "has automations that allow you to get notifications when certain events occur\n",
    "or don’t occur. \n",
    "\n",
    "Create a free forever Prefect Cloud account at app.prefect.cloud and connect\n",
    "your workspace to it following the steps in the UI when you sign up. \n",
    "\n",
    "Set up an Automation from the UI that will send yourself an email when\n",
    "a flow run completes. Run one of your existing deployments and check\n",
    "your email to see the notification.\n",
    "\n",
    "Make sure your active profile is pointing toward Prefect Cloud and\n",
    "make sure you have a worker active.\n",
    "\n",
    "What is the name of the second step in the Automation creation process?\n"
   ]
  },
  {
   "cell_type": "markdown",
   "id": "c7ef9d40-3560-4834-a650-956e115d1e3a",
   "metadata": {},
   "source": [
    "Answer : `Action`"
   ]
  }
 ],
 "metadata": {
  "kernelspec": {
   "display_name": "Python 3 (ipykernel)",
   "language": "python",
   "name": "python3"
  },
  "language_info": {
   "codemirror_mode": {
    "name": "ipython",
    "version": 3
   },
   "file_extension": ".py",
   "mimetype": "text/x-python",
   "name": "python",
   "nbconvert_exporter": "python",
   "pygments_lexer": "ipython3",
   "version": "3.10.11"
  }
 },
 "nbformat": 4,
 "nbformat_minor": 5
}
